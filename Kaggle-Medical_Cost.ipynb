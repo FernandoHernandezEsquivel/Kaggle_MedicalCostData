{
 "cells": [
  {
   "cell_type": "markdown",
   "metadata": {},
   "source": [
    "# Kaggle-Medical Cost Dataset"
   ]
  },
  {
   "cell_type": "markdown",
   "metadata": {},
   "source": [
    "Este trabajo es realizado con la base de datos del sitio Kaggle y puede ser descargada en el siguiente enlace\n",
    "https://www.kaggle.com/mirichoi0218/insurance"
   ]
  },
  {
   "cell_type": "code",
   "execution_count": 2,
   "metadata": {
    "id": "FUFyZ-LpYG2F"
   },
   "outputs": [],
   "source": [
    "# Importamos las librerías que se ocuparán\n",
    "%matplotlib inline\n",
    "import numpy as np\n",
    "import pandas as pd\n",
    "import seaborn as sns\n",
    "import matplotlib.pyplot as plt\n",
    "# colab\n",
    "# data = \"/content/insurance.csv\"\n",
    "data = \"insurance.csv\"\n",
    "df = pd.read_csv(data)"
   ]
  },
  {
   "cell_type": "code",
   "execution_count": 3,
   "metadata": {
    "colab": {
     "base_uri": "https://localhost:8080/",
     "height": 206
    },
    "id": "7HZpSni-YG2I",
    "outputId": "8d03fce2-385c-4302-f04f-b841575ded2c"
   },
   "outputs": [
    {
     "data": {
      "text/html": [
       "<div>\n",
       "<style scoped>\n",
       "    .dataframe tbody tr th:only-of-type {\n",
       "        vertical-align: middle;\n",
       "    }\n",
       "\n",
       "    .dataframe tbody tr th {\n",
       "        vertical-align: top;\n",
       "    }\n",
       "\n",
       "    .dataframe thead th {\n",
       "        text-align: right;\n",
       "    }\n",
       "</style>\n",
       "<table border=\"1\" class=\"dataframe\">\n",
       "  <thead>\n",
       "    <tr style=\"text-align: right;\">\n",
       "      <th></th>\n",
       "      <th>age</th>\n",
       "      <th>sex</th>\n",
       "      <th>bmi</th>\n",
       "      <th>children</th>\n",
       "      <th>smoker</th>\n",
       "      <th>region</th>\n",
       "      <th>charges</th>\n",
       "    </tr>\n",
       "  </thead>\n",
       "  <tbody>\n",
       "    <tr>\n",
       "      <th>0</th>\n",
       "      <td>19</td>\n",
       "      <td>female</td>\n",
       "      <td>27.900</td>\n",
       "      <td>0</td>\n",
       "      <td>yes</td>\n",
       "      <td>southwest</td>\n",
       "      <td>16884.92400</td>\n",
       "    </tr>\n",
       "    <tr>\n",
       "      <th>1</th>\n",
       "      <td>18</td>\n",
       "      <td>male</td>\n",
       "      <td>33.770</td>\n",
       "      <td>1</td>\n",
       "      <td>no</td>\n",
       "      <td>southeast</td>\n",
       "      <td>1725.55230</td>\n",
       "    </tr>\n",
       "    <tr>\n",
       "      <th>2</th>\n",
       "      <td>28</td>\n",
       "      <td>male</td>\n",
       "      <td>33.000</td>\n",
       "      <td>3</td>\n",
       "      <td>no</td>\n",
       "      <td>southeast</td>\n",
       "      <td>4449.46200</td>\n",
       "    </tr>\n",
       "    <tr>\n",
       "      <th>3</th>\n",
       "      <td>33</td>\n",
       "      <td>male</td>\n",
       "      <td>22.705</td>\n",
       "      <td>0</td>\n",
       "      <td>no</td>\n",
       "      <td>northwest</td>\n",
       "      <td>21984.47061</td>\n",
       "    </tr>\n",
       "    <tr>\n",
       "      <th>4</th>\n",
       "      <td>32</td>\n",
       "      <td>male</td>\n",
       "      <td>28.880</td>\n",
       "      <td>0</td>\n",
       "      <td>no</td>\n",
       "      <td>northwest</td>\n",
       "      <td>3866.85520</td>\n",
       "    </tr>\n",
       "  </tbody>\n",
       "</table>\n",
       "</div>"
      ],
      "text/plain": [
       "   age     sex     bmi  children smoker     region      charges\n",
       "0   19  female  27.900         0    yes  southwest  16884.92400\n",
       "1   18    male  33.770         1     no  southeast   1725.55230\n",
       "2   28    male  33.000         3     no  southeast   4449.46200\n",
       "3   33    male  22.705         0     no  northwest  21984.47061\n",
       "4   32    male  28.880         0     no  northwest   3866.85520"
      ]
     },
     "execution_count": 3,
     "metadata": {},
     "output_type": "execute_result"
    }
   ],
   "source": [
    "# Vemos algunos valores del dataframe\n",
    "df.head()"
   ]
  },
  {
   "cell_type": "code",
   "execution_count": 3,
   "metadata": {
    "colab": {
     "base_uri": "https://localhost:8080/",
     "height": 300
    },
    "id": "J1TV6f1oYG2J",
    "outputId": "9d67e7cd-9b33-4c82-ebe2-b1210126a1ac"
   },
   "outputs": [
    {
     "data": {
      "text/html": [
       "<div>\n",
       "<style scoped>\n",
       "    .dataframe tbody tr th:only-of-type {\n",
       "        vertical-align: middle;\n",
       "    }\n",
       "\n",
       "    .dataframe tbody tr th {\n",
       "        vertical-align: top;\n",
       "    }\n",
       "\n",
       "    .dataframe thead th {\n",
       "        text-align: right;\n",
       "    }\n",
       "</style>\n",
       "<table border=\"1\" class=\"dataframe\">\n",
       "  <thead>\n",
       "    <tr style=\"text-align: right;\">\n",
       "      <th></th>\n",
       "      <th>age</th>\n",
       "      <th>bmi</th>\n",
       "      <th>children</th>\n",
       "      <th>charges</th>\n",
       "    </tr>\n",
       "  </thead>\n",
       "  <tbody>\n",
       "    <tr>\n",
       "      <th>count</th>\n",
       "      <td>1338.000000</td>\n",
       "      <td>1338.000000</td>\n",
       "      <td>1338.000000</td>\n",
       "      <td>1338.000000</td>\n",
       "    </tr>\n",
       "    <tr>\n",
       "      <th>mean</th>\n",
       "      <td>39.207025</td>\n",
       "      <td>30.663397</td>\n",
       "      <td>1.094918</td>\n",
       "      <td>13270.422265</td>\n",
       "    </tr>\n",
       "    <tr>\n",
       "      <th>std</th>\n",
       "      <td>14.049960</td>\n",
       "      <td>6.098187</td>\n",
       "      <td>1.205493</td>\n",
       "      <td>12110.011237</td>\n",
       "    </tr>\n",
       "    <tr>\n",
       "      <th>min</th>\n",
       "      <td>18.000000</td>\n",
       "      <td>15.960000</td>\n",
       "      <td>0.000000</td>\n",
       "      <td>1121.873900</td>\n",
       "    </tr>\n",
       "    <tr>\n",
       "      <th>25%</th>\n",
       "      <td>27.000000</td>\n",
       "      <td>26.296250</td>\n",
       "      <td>0.000000</td>\n",
       "      <td>4740.287150</td>\n",
       "    </tr>\n",
       "    <tr>\n",
       "      <th>50%</th>\n",
       "      <td>39.000000</td>\n",
       "      <td>30.400000</td>\n",
       "      <td>1.000000</td>\n",
       "      <td>9382.033000</td>\n",
       "    </tr>\n",
       "    <tr>\n",
       "      <th>75%</th>\n",
       "      <td>51.000000</td>\n",
       "      <td>34.693750</td>\n",
       "      <td>2.000000</td>\n",
       "      <td>16639.912515</td>\n",
       "    </tr>\n",
       "    <tr>\n",
       "      <th>max</th>\n",
       "      <td>64.000000</td>\n",
       "      <td>53.130000</td>\n",
       "      <td>5.000000</td>\n",
       "      <td>63770.428010</td>\n",
       "    </tr>\n",
       "  </tbody>\n",
       "</table>\n",
       "</div>"
      ],
      "text/plain": [
       "               age          bmi     children       charges\n",
       "count  1338.000000  1338.000000  1338.000000   1338.000000\n",
       "mean     39.207025    30.663397     1.094918  13270.422265\n",
       "std      14.049960     6.098187     1.205493  12110.011237\n",
       "min      18.000000    15.960000     0.000000   1121.873900\n",
       "25%      27.000000    26.296250     0.000000   4740.287150\n",
       "50%      39.000000    30.400000     1.000000   9382.033000\n",
       "75%      51.000000    34.693750     2.000000  16639.912515\n",
       "max      64.000000    53.130000     5.000000  63770.428010"
      ]
     },
     "execution_count": 3,
     "metadata": {},
     "output_type": "execute_result"
    }
   ],
   "source": [
    "# Revisamos estadísticas básicas\n",
    "df.describe()"
   ]
  },
  {
   "cell_type": "markdown",
   "metadata": {
    "id": "Jd7fZI0PYG2J"
   },
   "source": [
    "### ¿Existen valores nulos en alguna columna?"
   ]
  },
  {
   "cell_type": "code",
   "execution_count": 4,
   "metadata": {
    "colab": {
     "base_uri": "https://localhost:8080/"
    },
    "id": "vb67W0iEYG2L",
    "outputId": "1aaea89c-0409-47b3-b09f-956faac0465e"
   },
   "outputs": [
    {
     "data": {
      "text/plain": [
       "age         0\n",
       "sex         0\n",
       "bmi         0\n",
       "children    0\n",
       "smoker      0\n",
       "region      0\n",
       "charges     0\n",
       "dtype: int64"
      ]
     },
     "execution_count": 4,
     "metadata": {},
     "output_type": "execute_result"
    }
   ],
   "source": [
    "df.isnull().sum()"
   ]
  },
  {
   "cell_type": "code",
   "execution_count": 4,
   "metadata": {},
   "outputs": [
    {
     "data": {
      "text/plain": [
       "<matplotlib.axes._subplots.AxesSubplot at 0x1b0cf9adf28>"
      ]
     },
     "execution_count": 4,
     "metadata": {},
     "output_type": "execute_result"
    },
    {
     "data": {
      "image/png": "[encoded data removed]",
      "text/plain": [
       "<Figure size 1440x432 with 1 Axes>"
      ]
     },
     "metadata": {},
     "output_type": "display_data"
    }
   ],
   "source": [
    "plt.figure(figsize=(20, 6))\n",
    "sns.heatmap(df.isnull(),yticklabels=False,cbar=False,cmap='viridis')"
   ]
  },
  {
   "cell_type": "markdown",
   "metadata": {
    "id": "9NPhswjmYG2M"
   },
   "source": [
    "No existen valores nulos en los datos"
   ]
  },
  {
   "cell_type": "markdown",
   "metadata": {
    "id": "Ws_tUEpQYG2M"
   },
   "source": [
    "### Gráfica la distribución de la columna “charges”"
   ]
  },
  {
   "cell_type": "code",
   "execution_count": 38,
   "metadata": {
    "colab": {
     "base_uri": "https://localhost:8080/",
     "height": 337
    },
    "id": "IMqmcJzsYG2N",
    "outputId": "304b7542-7e65-43b9-f9c4-363b255e0dab"
   },
   "outputs": [
    {
     "data": {
      "text/plain": [
       "<matplotlib.axes._subplots.AxesSubplot at 0x7fa69b618850>"
      ]
     },
     "execution_count": 38,
     "metadata": {},
     "output_type": "execute_result"
    },
    {
     "data": {
      "image/png": "[encoded data removed]",
      "text/plain": [
       "<Figure size 504x360 with 1 Axes>"
      ]
     },
     "metadata": {
      "needs_background": "light"
     },
     "output_type": "display_data"
    }
   ],
   "source": [
    "df[\"charges\"].plot.hist(figsize=(7,5),bins=10)"
   ]
  },
  {
   "cell_type": "markdown",
   "metadata": {
    "id": "RgGNQoTRYG2N"
   },
   "source": [
    "### Gráfica de la distribución conjunta de “charges” y “age” para los no fumadores"
   ]
  },
  {
   "cell_type": "code",
   "execution_count": 12,
   "metadata": {
    "colab": {
     "base_uri": "https://localhost:8080/",
     "height": 300
    },
    "id": "NGvkfU8h0ucZ",
    "outputId": "11542f63-2d20-4408-a0e6-01c387d32a19"
   },
   "outputs": [
    {
     "data": {
      "text/html": [
       "<div>\n",
       "<style scoped>\n",
       "    .dataframe tbody tr th:only-of-type {\n",
       "        vertical-align: middle;\n",
       "    }\n",
       "\n",
       "    .dataframe tbody tr th {\n",
       "        vertical-align: top;\n",
       "    }\n",
       "\n",
       "    .dataframe thead th {\n",
       "        text-align: right;\n",
       "    }\n",
       "</style>\n",
       "<table border=\"1\" class=\"dataframe\">\n",
       "  <thead>\n",
       "    <tr style=\"text-align: right;\">\n",
       "      <th></th>\n",
       "      <th>age</th>\n",
       "      <th>bmi</th>\n",
       "      <th>children</th>\n",
       "      <th>charges</th>\n",
       "    </tr>\n",
       "  </thead>\n",
       "  <tbody>\n",
       "    <tr>\n",
       "      <th>count</th>\n",
       "      <td>1064.000000</td>\n",
       "      <td>1064.000000</td>\n",
       "      <td>1064.000000</td>\n",
       "      <td>1064.000000</td>\n",
       "    </tr>\n",
       "    <tr>\n",
       "      <th>mean</th>\n",
       "      <td>39.385338</td>\n",
       "      <td>30.651795</td>\n",
       "      <td>1.090226</td>\n",
       "      <td>8434.268298</td>\n",
       "    </tr>\n",
       "    <tr>\n",
       "      <th>std</th>\n",
       "      <td>14.083410</td>\n",
       "      <td>6.043111</td>\n",
       "      <td>1.218136</td>\n",
       "      <td>5993.781819</td>\n",
       "    </tr>\n",
       "    <tr>\n",
       "      <th>min</th>\n",
       "      <td>18.000000</td>\n",
       "      <td>15.960000</td>\n",
       "      <td>0.000000</td>\n",
       "      <td>1121.873900</td>\n",
       "    </tr>\n",
       "    <tr>\n",
       "      <th>25%</th>\n",
       "      <td>26.750000</td>\n",
       "      <td>26.315000</td>\n",
       "      <td>0.000000</td>\n",
       "      <td>3986.438700</td>\n",
       "    </tr>\n",
       "    <tr>\n",
       "      <th>50%</th>\n",
       "      <td>40.000000</td>\n",
       "      <td>30.352500</td>\n",
       "      <td>1.000000</td>\n",
       "      <td>7345.405300</td>\n",
       "    </tr>\n",
       "    <tr>\n",
       "      <th>75%</th>\n",
       "      <td>52.000000</td>\n",
       "      <td>34.430000</td>\n",
       "      <td>2.000000</td>\n",
       "      <td>11362.887050</td>\n",
       "    </tr>\n",
       "    <tr>\n",
       "      <th>max</th>\n",
       "      <td>64.000000</td>\n",
       "      <td>53.130000</td>\n",
       "      <td>5.000000</td>\n",
       "      <td>36910.608030</td>\n",
       "    </tr>\n",
       "  </tbody>\n",
       "</table>\n",
       "</div>"
      ],
      "text/plain": [
       "               age          bmi     children       charges\n",
       "count  1064.000000  1064.000000  1064.000000   1064.000000\n",
       "mean     39.385338    30.651795     1.090226   8434.268298\n",
       "std      14.083410     6.043111     1.218136   5993.781819\n",
       "min      18.000000    15.960000     0.000000   1121.873900\n",
       "25%      26.750000    26.315000     0.000000   3986.438700\n",
       "50%      40.000000    30.352500     1.000000   7345.405300\n",
       "75%      52.000000    34.430000     2.000000  11362.887050\n",
       "max      64.000000    53.130000     5.000000  36910.608030"
      ]
     },
     "execution_count": 12,
     "metadata": {},
     "output_type": "execute_result"
    }
   ],
   "source": [
    "# Filtramos los datos por no fumadores\n",
    "df_no = df[df.smoker == \"no\"]\n",
    "df_no.describe()"
   ]
  },
  {
   "cell_type": "code",
   "execution_count": 15,
   "metadata": {
    "colab": {
     "base_uri": "https://localhost:8080/",
     "height": 295
    },
    "id": "wrqB4bdxYG2P",
    "outputId": "782b2f2a-a0ca-4038-ebbd-ddf123bc4912"
   },
   "outputs": [
    {
     "data": {
      "image/png": "[encoded data removed]",
      "text/plain": [
       "<Figure size 432x288 with 1 Axes>"
      ]
     },
     "metadata": {
      "needs_background": "light"
     },
     "output_type": "display_data"
    }
   ],
   "source": [
    "# Graficamos\n",
    "X = df_no[\"age\"]\n",
    "Y = df_no[\"charges\"]\n",
    "\n",
    "plt.scatter(X, Y, marker = \"x\")\n",
    "\n",
    "plt.title(\"Charges vs. Age\")\n",
    "plt.xlabel(\"Age\")\n",
    "plt.ylabel(\"Charges\");"
   ]
  },
  {
   "cell_type": "markdown",
   "metadata": {},
   "source": [
    "Claramente se ve en la gráfica que existen muchos valores que están alejados de la mayoría de las observaciones, sin embargo, para la modelación se dejarán para ver qué tanto afectan al modelo."
   ]
  },
  {
   "cell_type": "markdown",
   "metadata": {
    "id": "hNGAX0oz2-Oq"
   },
   "source": [
    "### Gráfica de la matriz de correlación entre las variables"
   ]
  },
  {
   "cell_type": "code",
   "execution_count": 3,
   "metadata": {
    "colab": {
     "base_uri": "https://localhost:8080/",
     "height": 528
    },
    "id": "Kr0pwFGe3BQ6",
    "outputId": "4c34b85f-3944-4cd3-a08e-f123522bedec"
   },
   "outputs": [
    {
     "data": {
      "image/png": "[encoded data removed]",
      "text/plain": [
       "<Figure size 720x576 with 2 Axes>"
      ]
     },
     "metadata": {},
     "output_type": "display_data"
    }
   ],
   "source": [
    "# Creamos valores dummy de variables categóricas\n",
    "sex_b = pd.get_dummies(df.sex)\n",
    "smoker_b = pd.get_dummies(df.smoker)\n",
    "region_b = pd.get_dummies(df.region)\n",
    "# Filtramos solo las variables numericas\n",
    "df_num = df.filter([\"age\",\"bmi\",\"children\",\"charges\"]) \n",
    "# Unimos los valores\n",
    "df_r = pd.concat([df_num,sex_b,smoker_b,region_b],axis=1)\n",
    "# Calculamos la matriz de correlación\n",
    "corMat = df_r.corr()\n",
    "# Se grafica\n",
    "fig, ax = plt.subplots(figsize=(10,8)) \n",
    "sns.heatmap(corMat, annot=True,ax=ax)\n",
    "plt.show()"
   ]
  },
  {
   "cell_type": "markdown",
   "metadata": {
    "id": "qAlD5VCmF0lh"
   },
   "source": [
    "### Ajustamos los siguientes modelos de regresión y se comparan las métricas de R^2 para cada uno de ellos\n",
    "#### Todas las variables\n"
   ]
  },
  {
   "cell_type": "markdown",
   "metadata": {},
   "source": [
    "- a. Linear Regression"
   ]
  },
  {
   "cell_type": "code",
   "execution_count": 8,
   "metadata": {
    "id": "aGtpl99TF3J9"
   },
   "outputs": [],
   "source": [
    "# Separamos Y y x\n",
    "Y = df_r[\"charges\"]\n",
    "x = df_r.drop(\"charges\",axis=1)"
   ]
  },
  {
   "cell_type": "code",
   "execution_count": 57,
   "metadata": {
    "id": "syCHKrAgRsKA"
   },
   "outputs": [],
   "source": [
    "# Se importa train_test_split\n",
    "from sklearn.model_selection import train_test_split\n",
    "# Dividimos los datos\n",
    "x_train, x_test, y_train, y_test = train_test_split(x, Y, test_size = 0.3, random_state=1)"
   ]
  },
  {
   "cell_type": "code",
   "execution_count": 58,
   "metadata": {
    "colab": {
     "base_uri": "https://localhost:8080/"
    },
    "id": "2StMrGaHSfYk",
    "outputId": "6d7787ac-e803-4cf4-c666-3974b124d4ca"
   },
   "outputs": [
    {
     "data": {
      "text/plain": [
       "LinearRegression(copy_X=True, fit_intercept=True, n_jobs=1, normalize=False)"
      ]
     },
     "execution_count": 58,
     "metadata": {},
     "output_type": "execute_result"
    }
   ],
   "source": [
    "# Se importa el módulo para realizar la regresión\n",
    "from sklearn.linear_model import LinearRegression\n",
    "# Creamos el modelo de regresión\n",
    "Lr_1 = LinearRegression()\n",
    "# Ajustamos los datos de train\n",
    "Lr_1.fit(x_train,y_train)"
   ]
  },
  {
   "cell_type": "code",
   "execution_count": 59,
   "metadata": {},
   "outputs": [
    {
     "name": "stdout",
     "output_type": "stream",
     "text": [
      "INTERCEPT :  321.15345829133366\n",
      "CO-EFFICIENT :  [   251.68186515    322.38910684    344.9642553     141.3981733\n",
      "   -141.3981733  -12029.69523846  12029.69523846    527.9051883\n",
      "    223.81509065   -411.4369086    -340.28337035]\n"
     ]
    }
   ],
   "source": [
    "# Revisamos los valores obtenidos del modelo\n",
    "print (\"INTERCEPT : \",Lr_1.intercept_)\n",
    "print (\"CO-EFFICIENT : \",Lr_1.coef_)"
   ]
  },
  {
   "cell_type": "code",
   "execution_count": 60,
   "metadata": {
    "colab": {
     "base_uri": "https://localhost:8080/"
    },
    "id": "CTlm5ASYUX2z",
    "outputId": "705e6a35-634f-4bf9-dab4-c89924725c43"
   },
   "outputs": [
    {
     "data": {
      "text/plain": [
       "array([ 4610.31554087, 12887.89388015, 12573.9487516 , 13197.83662603,\n",
       "         629.33718201])"
      ]
     },
     "execution_count": 60,
     "metadata": {},
     "output_type": "execute_result"
    }
   ],
   "source": [
    "# Predecimos los resultados del test data\n",
    "y_prediction =  Lr_1.predict(x_test)\n",
    "y_prediction[:5]"
   ]
  },
  {
   "cell_type": "code",
   "execution_count": 61,
   "metadata": {
    "colab": {
     "base_uri": "https://localhost:8080/"
    },
    "id": "mDdAyj_nUsBX",
    "outputId": "ac7cd511-952e-49bb-e107-e65a1090f3ba"
   },
   "outputs": [
    {
     "name": "stdout",
     "output_type": "stream",
     "text": [
      "El valor de la r^2 es 0.7406\n",
      "El error medio absoluto es 4139.9321\n",
      "El error medio cuadrado es 36761456.352\n",
      "La raíz cuadrada del error cuadrado medio es 6063.1227\n"
     ]
    }
   ],
   "source": [
    "# Se importa el módulo r2_score para calcular la r^2\n",
    "from sklearn.metrics import r2_score\n",
    "from sklearn.metrics import mean_squared_error\n",
    "from sklearn.metrics import mean_absolute_error\n",
    "# Calculamos la precisión de predicción del modelo\n",
    "score=r2_score(y_test,y_prediction)\n",
    "print(\"El valor de la r^2 es\",score.round(4))\n",
    "print (\"El error medio absoluto es\",mean_absolute_error(y_test, y_prediction).round(4))\n",
    "print(\"El error medio cuadrado es\",mean_squared_error(y_test,y_prediction).round(4))\n",
    "print(\"La raíz cuadrada del error cuadrado medio es\",np.sqrt(mean_squared_error(y_test,y_prediction)).round(4))"
   ]
  },
  {
   "cell_type": "markdown",
   "metadata": {
    "id": "e0Qoqj7-can3"
   },
   "source": [
    "- b. Ridge Regression"
   ]
  },
  {
   "cell_type": "code",
   "execution_count": 62,
   "metadata": {},
   "outputs": [],
   "source": [
    "from sklearn.linear_model import Ridge\n",
    "# Usamos alpha=0.1\n",
    "ridgereg = Ridge(alpha=0.1, normalize=True)\n",
    "ridgereg.fit(x_train, y_train)\n",
    "y_prediction = ridgereg.predict(x_test)"
   ]
  },
  {
   "cell_type": "code",
   "execution_count": 63,
   "metadata": {},
   "outputs": [
    {
     "name": "stdout",
     "output_type": "stream",
     "text": [
      "El valor de la r^2 es 0.7378\n",
      "El error medio absoluto es 4201.6162\n",
      "El error medio cuadrado es 37155235.7847\n",
      "La raíz cuadrada del error cuadrado medio es 6095.5095\n"
     ]
    }
   ],
   "source": [
    "# Calculamos la precisión de predicción del modelo\n",
    "score=r2_score(y_test,y_prediction)\n",
    "print(\"El valor de la r^2 es\",score.round(4))\n",
    "print (\"El error medio absoluto es\",mean_absolute_error(y_test, y_prediction).round(4))\n",
    "print(\"El error medio cuadrado es\",mean_squared_error(y_test,y_prediction).round(4))\n",
    "print(\"La raíz cuadrada del error cuadrado medio es\",np.sqrt(mean_squared_error(y_test,y_prediction)).round(4))"
   ]
  },
  {
   "cell_type": "code",
   "execution_count": 64,
   "metadata": {},
   "outputs": [
    {
     "name": "stdout",
     "output_type": "stream",
     "text": [
      "[   229.83471377    295.80104766    315.47561837     96.91281729\n",
      "    -96.91281729 -11449.09080424  11449.09080424    460.42595706\n",
      "    171.46712697   -287.3026961    -310.69809017]\n"
     ]
    }
   ],
   "source": [
    "# Examinamos los coeficientes\n",
    "print(ridgereg.coef_)"
   ]
  },
  {
   "cell_type": "code",
   "execution_count": 65,
   "metadata": {},
   "outputs": [
    {
     "data": {
      "text/plain": [
       "array([1.e-02, 1.e-01, 1.e+00, 1.e+01, 1.e+02])"
      ]
     },
     "execution_count": 65,
     "metadata": {},
     "output_type": "execute_result"
    }
   ],
   "source": [
    "# Creamos un arreglo con varios valores de alpha para determinar cuál es el mejor \n",
    "alpha_range = 10.**np.arange(-2, 3)\n",
    "alpha_range"
   ]
  },
  {
   "cell_type": "code",
   "execution_count": 66,
   "metadata": {},
   "outputs": [
    {
     "data": {
      "text/plain": [
       "0.01"
      ]
     },
     "execution_count": 66,
     "metadata": {},
     "output_type": "execute_result"
    }
   ],
   "source": [
    "# Selecionamos el mejor alpha con RidgeCV\n",
    "from sklearn.linear_model import RidgeCV\n",
    "ridgeregcv = RidgeCV(alphas=alpha_range, normalize=True, scoring='neg_mean_squared_error')\n",
    "ridgeregcv.fit(x_train, y_train)\n",
    "ridgeregcv.alpha_"
   ]
  },
  {
   "cell_type": "code",
   "execution_count": 67,
   "metadata": {},
   "outputs": [
    {
     "name": "stdout",
     "output_type": "stream",
     "text": [
      "El valor de la r^2 es 0.7405\n",
      "El error medio absoluto es 4144.0044\n",
      "El error medio cuadrado es 36773622.8669\n",
      "La raíz cuadrada del error cuadrado medio es 6064.1259\n"
     ]
    }
   ],
   "source": [
    "# Predecimos los resultados del modelo\n",
    "y_prediction = ridgeregcv.predict(x_test)\n",
    "# Calculamos la precisión de predicción del modelo\n",
    "score=r2_score(y_test,y_prediction)\n",
    "print(\"El valor de la r^2 es\",score.round(4))\n",
    "print (\"El error medio absoluto es\",mean_absolute_error(y_test, y_prediction).round(4))\n",
    "print(\"El error medio cuadrado es\",mean_squared_error(y_test,y_prediction).round(4))\n",
    "print(\"La raíz cuadrada del error cuadrado medio es\",np.sqrt(mean_squared_error(y_test,y_prediction)).round(4))"
   ]
  },
  {
   "cell_type": "markdown",
   "metadata": {},
   "source": [
    "- c. Lasso Regression"
   ]
  },
  {
   "cell_type": "code",
   "execution_count": 68,
   "metadata": {},
   "outputs": [
    {
     "name": "stdout",
     "output_type": "stream",
     "text": [
      "[   251.68    322.38    344.94    282.73     -0.   -24059.31      0.\n",
      "    805.96    501.88   -133.24    -62.1 ]\n"
     ]
    }
   ],
   "source": [
    "# Probamos alpha=0.001 y examinamos los coeficientes\n",
    "from sklearn.linear_model import Lasso\n",
    "lassoreg = Lasso(alpha=0.001, normalize=True)\n",
    "lassoreg.fit(x_train, y_train)\n",
    "print(lassoreg.coef_.round(2))"
   ]
  },
  {
   "cell_type": "code",
   "execution_count": 80,
   "metadata": {},
   "outputs": [
    {
     "name": "stdout",
     "output_type": "stream",
     "text": [
      "[   251.66    322.32    344.72    282.09     -0.   -24058.55      0.\n",
      "    805.05    501.06   -132.89    -61.88]\n"
     ]
    }
   ],
   "source": [
    "# Probamos alpha=0.01 y examinamos los coeficientes\n",
    "lassoreg = Lasso(alpha=0.01, normalize=True)\n",
    "lassoreg.fit(x_train, y_train)\n",
    "print(lassoreg.coef_.round(2))"
   ]
  },
  {
   "cell_type": "code",
   "execution_count": 81,
   "metadata": {},
   "outputs": [
    {
     "name": "stdout",
     "output_type": "stream",
     "text": [
      "El valor de la r^2 es 0.7406\n",
      "El error medio absoluto es 4139.9093\n",
      "El error medio cuadrado es 36761944.2794\n",
      "La raíz cuadrada del error cuadrado medio es 6063.1629\n"
     ]
    }
   ],
   "source": [
    "# Predecimos los resultados del modelo\n",
    "y_prediction = lassoreg.predict(x_test)\n",
    "# Calculamos la precisión de predicción del modelo\n",
    "score=r2_score(y_test,y_prediction)\n",
    "print(\"El valor de la r^2 es\",score.round(4))\n",
    "print (\"El error medio absoluto es\",mean_absolute_error(y_test, y_prediction).round(4))\n",
    "print(\"El error medio cuadrado es\",mean_squared_error(y_test,y_prediction).round(4))\n",
    "print(\"La raíz cuadrada del error cuadrado medio es\",np.sqrt(mean_squared_error(y_test,y_prediction)).round(4))"
   ]
  },
  {
   "cell_type": "code",
   "execution_count": 87,
   "metadata": {},
   "outputs": [
    {
     "name": "stdout",
     "output_type": "stream",
     "text": [
      "alpha :  3.9110093141453883\n"
     ]
    }
   ],
   "source": [
    "# Selecionamos el mejor alpha con LassoCV\n",
    "from sklearn.linear_model import LassoCV\n",
    "lassoregcv = LassoCV(n_alphas=100, normalize=True, random_state=1)\n",
    "lassoregcv.fit(x_train, y_train)\n",
    "print('alpha : ',lassoregcv.alpha_)"
   ]
  },
  {
   "cell_type": "code",
   "execution_count": 88,
   "metadata": {},
   "outputs": [
    {
     "name": "stdout",
     "output_type": "stream",
     "text": [
      "[ 2.446500e+02  2.937200e+02  2.477300e+02  5.290000e+00 -0.000000e+00\n",
      " -2.372955e+04  0.000000e+00  3.925200e+02  1.256800e+02 -1.350000e+00\n",
      " -0.000000e+00]\n"
     ]
    }
   ],
   "source": [
    "# Examinamos los coeficientes\n",
    "print(lassoregcv.coef_.round(2))"
   ]
  },
  {
   "cell_type": "code",
   "execution_count": 89,
   "metadata": {},
   "outputs": [
    {
     "name": "stdout",
     "output_type": "stream",
     "text": [
      "El valor de la r^2 es 0.7383\n",
      "El error medio absoluto es 4141.4784\n",
      "El error medio cuadrado es 37080888.5449\n",
      "La raíz cuadrada del error cuadrado medio es 6089.4079\n"
     ]
    }
   ],
   "source": [
    "# Predecimos los resultados del modelo\n",
    "y_prediction = lassoregcv.predict(x_test)\n",
    "# Calculamos la precisión de predicción del modelo\n",
    "score=r2_score(y_test,y_prediction)\n",
    "print(\"El valor de la r^2 es\",score.round(4))\n",
    "print (\"El error medio absoluto es\",mean_absolute_error(y_test, y_prediction).round(4))\n",
    "print(\"El error medio cuadrado es\",mean_squared_error(y_test,y_prediction).round(4))\n",
    "print(\"La raíz cuadrada del error cuadrado medio es\",np.sqrt(mean_squared_error(y_test,y_prediction)).round(4))"
   ]
  },
  {
   "cell_type": "markdown",
   "metadata": {},
   "source": [
    "- d. KNN regression"
   ]
  },
  {
   "cell_type": "code",
   "execution_count": 139,
   "metadata": {},
   "outputs": [
    {
     "data": {
      "text/plain": [
       "KNeighborsRegressor(algorithm='auto', leaf_size=30, metric='minkowski',\n",
       "          metric_params=None, n_jobs=1, n_neighbors=3, p=2,\n",
       "          weights='uniform')"
      ]
     },
     "execution_count": 139,
     "metadata": {},
     "output_type": "execute_result"
    }
   ],
   "source": [
    "# Creamos el modelo con nn=3\n",
    "from sklearn.neighbors import KNeighborsRegressor\n",
    "from sklearn.model_selection import train_test_split\n",
    "reg_knn = KNeighborsRegressor(n_neighbors=3)\n",
    "reg_knn.fit(x_train,y_train)"
   ]
  },
  {
   "cell_type": "code",
   "execution_count": 140,
   "metadata": {
    "scrolled": true
   },
   "outputs": [
    {
     "name": "stdout",
     "output_type": "stream",
     "text": [
      "El valor de la r^2 es 0.1998\n",
      "El error medio absoluto es 6844.8738\n",
      "El error medio cuadrado es 113401093.1798\n",
      "La raíz cuadrada del error cuadrado medio es 10648.9949\n"
     ]
    }
   ],
   "source": [
    "# Predecimos los resultados del modelo\n",
    "y_prediction = reg_knn.predict(x_test)\n",
    "# Calculamos la precisión de predicción del modelo\n",
    "score=r2_score(y_test,y_prediction)\n",
    "print(\"El valor de la r^2 es\",score.round(4))\n",
    "print (\"El error medio absoluto es\",mean_absolute_error(y_test, y_prediction).round(4))\n",
    "print(\"El error medio cuadrado es\",mean_squared_error(y_test,y_prediction).round(4))\n",
    "print(\"La raíz cuadrada del error cuadrado medio es\",np.sqrt(mean_squared_error(y_test,y_prediction)).round(4))"
   ]
  },
  {
   "cell_type": "code",
   "execution_count": 141,
   "metadata": {
    "scrolled": true
   },
   "outputs": [
    {
     "name": "stdout",
     "output_type": "stream",
     "text": [
      "RMSE value for k=  1 is: 12652.418511865759\n",
      "RMSE value for k=  2 is: 10783.66196072841\n",
      "RMSE value for k=  3 is: 10648.99493754205\n",
      "RMSE value for k=  4 is: 10543.267850790573\n",
      "RMSE value for k=  5 is: 10318.721959490424\n",
      "RMSE value for k=  6 is: 10262.854974643531\n",
      "RMSE value for k=  7 is: 10255.504315845656\n",
      "RMSE value for k=  8 is: 10145.916207005377\n",
      "RMSE value for k=  9 is: 10159.838996220766\n",
      "RMSE value for k=  10 is: 10217.935759793898\n",
      "RMSE value for k=  11 is: 10344.87384117587\n",
      "RMSE value for k=  12 is: 10437.936796199567\n",
      "RMSE value for k=  13 is: 10416.168601488256\n",
      "RMSE value for k=  14 is: 10502.350170775122\n",
      "RMSE value for k=  15 is: 10565.65245233355\n"
     ]
    }
   ],
   "source": [
    "# Con una función cálculamos el valor de varios nn para obtener los valores de RMSE y encontrar el mejor nn para el modelo\n",
    "from math import sqrt\n",
    "rmse_val = [] #to store rmse values for different k\n",
    "for K in range(15):\n",
    "    K = K+1\n",
    "    model = KNeighborsRegressor(n_neighbors = K)\n",
    "    model.fit(x_train, y_train)  #fit the model\n",
    "    pred=model.predict(x_test) #make prediction on test set\n",
    "    error = sqrt(mean_squared_error(y_test,pred)) #calculate rmse\n",
    "    rmse_val.append(error) #store rmse values\n",
    "    print('RMSE value for k= ' , K , 'is:', error)"
   ]
  },
  {
   "cell_type": "code",
   "execution_count": 143,
   "metadata": {},
   "outputs": [
    {
     "data": {
      "text/plain": [
       "KNeighborsRegressor(algorithm='auto', leaf_size=30, metric='minkowski',\n",
       "          metric_params=None, n_jobs=1, n_neighbors=8, p=2,\n",
       "          weights='uniform')"
      ]
     },
     "execution_count": 143,
     "metadata": {},
     "output_type": "execute_result"
    }
   ],
   "source": [
    "# Realizamo modelo con nn=8\n",
    "reg_knn = KNeighborsRegressor(n_neighbors=8)\n",
    "reg_knn.fit(x_train,y_train)"
   ]
  },
  {
   "cell_type": "code",
   "execution_count": 144,
   "metadata": {},
   "outputs": [
    {
     "name": "stdout",
     "output_type": "stream",
     "text": [
      "El valor de la r^2 es 0.2736\n",
      "El error medio absoluto es 7205.7916\n",
      "El error medio cuadrado es 102939615.6796\n",
      "La raíz cuadrada del error cuadrado medio es 10145.9162\n"
     ]
    }
   ],
   "source": [
    "# Predecimos los resultados del modelo\n",
    "y_prediction = reg_knn.predict(x_test)\n",
    "# Calculamos la precisión de predicción del modelo\n",
    "score=r2_score(y_test,y_prediction)\n",
    "print(\"El valor de la r^2 es\",score.round(4))\n",
    "print (\"El error medio absoluto es\",mean_absolute_error(y_test, y_prediction).round(4))\n",
    "print(\"El error medio cuadrado es\",mean_squared_error(y_test,y_prediction).round(4))\n",
    "print(\"La raíz cuadrada del error cuadrado medio es\",np.sqrt(mean_squared_error(y_test,y_prediction)).round(4))"
   ]
  },
  {
   "cell_type": "markdown",
   "metadata": {},
   "source": [
    "### Seleccionando variables"
   ]
  },
  {
   "cell_type": "markdown",
   "metadata": {},
   "source": [
    "- a. Linear Regression"
   ]
  },
  {
   "cell_type": "code",
   "execution_count": 86,
   "metadata": {
    "id": "aGtpl99TF3J9"
   },
   "outputs": [],
   "source": [
    "# Separamos Y y x\n",
    "Y = df_r[\"charges\"]\n",
    "x = df_r[[\"age\",\"bmi\",\"children\",\"male\",\"yes\",\"southeast\"]]"
   ]
  },
  {
   "cell_type": "code",
   "execution_count": 87,
   "metadata": {
    "id": "syCHKrAgRsKA"
   },
   "outputs": [],
   "source": [
    "# Se importa train_test_split\n",
    "from sklearn.model_selection import train_test_split\n",
    "# Dividimos los datos\n",
    "x_train, x_test, y_train, y_test = train_test_split(x, Y, test_size = 0.3, random_state=1)"
   ]
  },
  {
   "cell_type": "code",
   "execution_count": 88,
   "metadata": {
    "colab": {
     "base_uri": "https://localhost:8080/"
    },
    "id": "2StMrGaHSfYk",
    "outputId": "6d7787ac-e803-4cf4-c666-3974b124d4ca"
   },
   "outputs": [
    {
     "data": {
      "text/plain": [
       "LinearRegression(copy_X=True, fit_intercept=True, n_jobs=1, normalize=False)"
      ]
     },
     "execution_count": 88,
     "metadata": {},
     "output_type": "execute_result"
    }
   ],
   "source": [
    "# Se importa el módulo para realizar la regresión\n",
    "from sklearn.linear_model import LinearRegression\n",
    "# Creamos el modelo de regresión\n",
    "Lr_1 = LinearRegression()\n",
    "# Ajustamos los datos de train\n",
    "Lr_1.fit(x_train,y_train)"
   ]
  },
  {
   "cell_type": "code",
   "execution_count": 89,
   "metadata": {},
   "outputs": [
    {
     "name": "stdout",
     "output_type": "stream",
     "text": [
      "INTERCEPT :  -11270.113105236464\n",
      "CO-EFFICIENT :  [  251.61338789   316.79497679   335.59489684  -269.59025937\n",
      " 24071.83714871  -519.88707977]\n"
     ]
    }
   ],
   "source": [
    "# Revisamos los valores obtenidos del modelo\n",
    "print (\"INTERCEPT : \",Lr_1.intercept_)\n",
    "print (\"CO-EFFICIENT : \",Lr_1.coef_)"
   ]
  },
  {
   "cell_type": "code",
   "execution_count": 90,
   "metadata": {
    "colab": {
     "base_uri": "https://localhost:8080/"
    },
    "id": "CTlm5ASYUX2z",
    "outputId": "705e6a35-634f-4bf9-dab4-c89924725c43"
   },
   "outputs": [
    {
     "data": {
      "text/plain": [
       "array([ 4496.6765307 , 12793.97331301, 13013.99355897, 13150.04051189,\n",
       "        1144.30066034])"
      ]
     },
     "execution_count": 90,
     "metadata": {},
     "output_type": "execute_result"
    }
   ],
   "source": [
    "# Predecimos los resultados del test data\n",
    "y_prediction =  Lr_1.predict(x_test)\n",
    "y_prediction[:5]"
   ]
  },
  {
   "cell_type": "code",
   "execution_count": 91,
   "metadata": {
    "colab": {
     "base_uri": "https://localhost:8080/"
    },
    "id": "mDdAyj_nUsBX",
    "outputId": "ac7cd511-952e-49bb-e107-e65a1090f3ba"
   },
   "outputs": [
    {
     "name": "stdout",
     "output_type": "stream",
     "text": [
      "El valor de la r^2 es 0.7395\n",
      "El error medio absoluto es 4128.8097\n",
      "El error medio cuadrado es 36916832.5376\n",
      "La raíz cuadrada del error cuadrado medio es 6075.9224\n"
     ]
    }
   ],
   "source": [
    "# Se importa el módulo r2_score para calcular la r^2\n",
    "from sklearn.metrics import r2_score\n",
    "from sklearn.metrics import mean_squared_error\n",
    "from sklearn.metrics import mean_absolute_error\n",
    "# Calculamos la precisión de predicción del modelo\n",
    "score=r2_score(y_test,y_prediction)\n",
    "print(\"El valor de la r^2 es\",score.round(4))\n",
    "print (\"El error medio absoluto es\",mean_absolute_error(y_test, y_prediction).round(4))\n",
    "print(\"El error medio cuadrado es\",mean_squared_error(y_test,y_prediction).round(4))\n",
    "print(\"La raíz cuadrada del error cuadrado medio es\",np.sqrt(mean_squared_error(y_test,y_prediction)).round(4))"
   ]
  },
  {
   "cell_type": "markdown",
   "metadata": {
    "id": "e0Qoqj7-can3"
   },
   "source": [
    "- b. Ridge Regression"
   ]
  },
  {
   "cell_type": "code",
   "execution_count": 33,
   "metadata": {},
   "outputs": [],
   "source": [
    "from sklearn.linear_model import Ridge\n",
    "# Usamos alpha=0.1\n",
    "ridgereg = Ridge(alpha=0.1, normalize=True)\n",
    "ridgereg.fit(x_train, y_train)\n",
    "y_prediction = ridgereg.predict(x_test)"
   ]
  },
  {
   "cell_type": "code",
   "execution_count": 34,
   "metadata": {},
   "outputs": [
    {
     "name": "stdout",
     "output_type": "stream",
     "text": [
      "El valor de la r^2 es 0.7345\n",
      "El error medio absoluto es 4292.277\n",
      "El error medio cuadrado es 37623019.1108\n",
      "La raíz cuadrada del error cuadrado medio es 6133.7606\n"
     ]
    }
   ],
   "source": [
    "# Calculamos la precisión de predicción del modelo\n",
    "score=r2_score(y_test,y_prediction)\n",
    "print(\"El valor de la r^2 es\",score.round(4))\n",
    "print (\"El error medio absoluto es\",mean_absolute_error(y_test, y_prediction).round(4))\n",
    "print(\"El error medio cuadrado es\",mean_squared_error(y_test,y_prediction).round(4))\n",
    "print(\"La raíz cuadrada del error cuadrado medio es\",np.sqrt(mean_squared_error(y_test,y_prediction)).round(4))"
   ]
  },
  {
   "cell_type": "code",
   "execution_count": 35,
   "metadata": {},
   "outputs": [
    {
     "name": "stdout",
     "output_type": "stream",
     "text": [
      "[  229.51776937   291.13305885   305.94530856  -124.3128328\n",
      " 21861.79189475  -327.30861576]\n"
     ]
    }
   ],
   "source": [
    "# Examinamos los coeficientes\n",
    "print(ridgereg.coef_)"
   ]
  },
  {
   "cell_type": "code",
   "execution_count": 36,
   "metadata": {},
   "outputs": [
    {
     "data": {
      "text/plain": [
       "array([1.e-02, 1.e-01, 1.e+00, 1.e+01, 1.e+02])"
      ]
     },
     "execution_count": 36,
     "metadata": {},
     "output_type": "execute_result"
    }
   ],
   "source": [
    "# Creamos un arreglo con varios valores de alpha para determinar cuál es el mejor \n",
    "alpha_range = 10.**np.arange(-2, 3)\n",
    "alpha_range"
   ]
  },
  {
   "cell_type": "code",
   "execution_count": 37,
   "metadata": {},
   "outputs": [
    {
     "data": {
      "text/plain": [
       "0.01"
      ]
     },
     "execution_count": 37,
     "metadata": {},
     "output_type": "execute_result"
    }
   ],
   "source": [
    "# Selecionamos el mejor alpha con RidgeCV\n",
    "from sklearn.linear_model import RidgeCV\n",
    "ridgeregcv = RidgeCV(alphas=alpha_range, normalize=True, scoring='neg_mean_squared_error')\n",
    "ridgeregcv.fit(x_train, y_train)\n",
    "ridgeregcv.alpha_"
   ]
  },
  {
   "cell_type": "code",
   "execution_count": 38,
   "metadata": {},
   "outputs": [
    {
     "name": "stdout",
     "output_type": "stream",
     "text": [
      "El valor de la r^2 es 0.7396\n",
      "El error medio absoluto es 4142.288\n",
      "El error medio cuadrado es 36909938.8709\n",
      "La raíz cuadrada del error cuadrado medio es 6075.355\n"
     ]
    }
   ],
   "source": [
    "# Predecimos los resultados del modelo\n",
    "y_prediction = ridgeregcv.predict(x_test)\n",
    "# Calculamos la precisión de predicción del modelo\n",
    "score=r2_score(y_test,y_prediction)\n",
    "print(\"El valor de la r^2 es\",score.round(4))\n",
    "print (\"El error medio absoluto es\",mean_absolute_error(y_test, y_prediction).round(4))\n",
    "print(\"El error medio cuadrado es\",mean_squared_error(y_test,y_prediction).round(4))\n",
    "print(\"La raíz cuadrada del error cuadrado medio es\",np.sqrt(mean_squared_error(y_test,y_prediction)).round(4))"
   ]
  },
  {
   "cell_type": "markdown",
   "metadata": {},
   "source": [
    "- c. Lasso Regression"
   ]
  },
  {
   "cell_type": "code",
   "execution_count": 39,
   "metadata": {},
   "outputs": [
    {
     "name": "stdout",
     "output_type": "stream",
     "text": [
      "[  251.61   316.79   335.57  -269.52 24071.75  -519.8 ]\n"
     ]
    }
   ],
   "source": [
    "# Probamos alpha=0.001 y examinamos los coeficientes\n",
    "from sklearn.linear_model import Lasso\n",
    "lassoreg = Lasso(alpha=0.001, normalize=True)\n",
    "lassoreg.fit(x_train, y_train)\n",
    "print(lassoreg.coef_.round(2))"
   ]
  },
  {
   "cell_type": "code",
   "execution_count": 40,
   "metadata": {},
   "outputs": [
    {
     "name": "stdout",
     "output_type": "stream",
     "text": [
      "[  251.6    316.73   335.36  -268.89 24070.98  -518.98]\n"
     ]
    }
   ],
   "source": [
    "# Probamos alpha=0.01 y examinamos los coeficientes\n",
    "lassoreg = Lasso(alpha=0.01, normalize=True)\n",
    "lassoreg.fit(x_train, y_train)\n",
    "print(lassoreg.coef_.round(2))"
   ]
  },
  {
   "cell_type": "code",
   "execution_count": 41,
   "metadata": {},
   "outputs": [
    {
     "name": "stdout",
     "output_type": "stream",
     "text": [
      "El valor de la r^2 es 0.7395\n",
      "El error medio absoluto es 4128.8005\n",
      "El error medio cuadrado es 36917277.5144\n",
      "La raíz cuadrada del error cuadrado medio es 6075.959\n"
     ]
    }
   ],
   "source": [
    "# Predecimos los resultados del modelo\n",
    "y_prediction = lassoreg.predict(x_test)\n",
    "# Calculamos la precisión de predicción del modelo\n",
    "score=r2_score(y_test,y_prediction)\n",
    "print(\"El valor de la r^2 es\",score.round(4))\n",
    "print (\"El error medio absoluto es\",mean_absolute_error(y_test, y_prediction).round(4))\n",
    "print(\"El error medio cuadrado es\",mean_squared_error(y_test,y_prediction).round(4))\n",
    "print(\"La raíz cuadrada del error cuadrado medio es\",np.sqrt(mean_squared_error(y_test,y_prediction)).round(4))"
   ]
  },
  {
   "cell_type": "code",
   "execution_count": 42,
   "metadata": {},
   "outputs": [
    {
     "name": "stdout",
     "output_type": "stream",
     "text": [
      "alpha :  5.944386402101726\n"
     ]
    }
   ],
   "source": [
    "# Selecionamos el mejor alpha con LassoCV\n",
    "from sklearn.linear_model import LassoCV\n",
    "lassoregcv = LassoCV(n_alphas=100, normalize=True, random_state=1)\n",
    "lassoregcv.fit(x_train, y_train)\n",
    "print('alpha : ',lassoregcv.alpha_)"
   ]
  },
  {
   "cell_type": "code",
   "execution_count": 43,
   "metadata": {},
   "outputs": [
    {
     "name": "stdout",
     "output_type": "stream",
     "text": [
      "[  240.86   279.3    194.16    -0.   23576.98    -0.  ]\n"
     ]
    }
   ],
   "source": [
    "# Examinamos los coeficientes\n",
    "print(lassoregcv.coef_.round(2))"
   ]
  },
  {
   "cell_type": "code",
   "execution_count": 44,
   "metadata": {},
   "outputs": [
    {
     "name": "stdout",
     "output_type": "stream",
     "text": [
      "El valor de la r^2 es 0.7361\n",
      "El error medio absoluto es 4153.2556\n",
      "El error medio cuadrado es 37391991.9475\n",
      "La raíz cuadrada del error cuadrado medio es 6114.8992\n"
     ]
    }
   ],
   "source": [
    "# Predecimos los resultados del modelo\n",
    "y_prediction = lassoregcv.predict(x_test)\n",
    "# Calculamos la precisión de predicción del modelo\n",
    "score=r2_score(y_test,y_prediction)\n",
    "print(\"El valor de la r^2 es\",score.round(4))\n",
    "print (\"El error medio absoluto es\",mean_absolute_error(y_test, y_prediction).round(4))\n",
    "print(\"El error medio cuadrado es\",mean_squared_error(y_test,y_prediction).round(4))\n",
    "print(\"La raíz cuadrada del error cuadrado medio es\",np.sqrt(mean_squared_error(y_test,y_prediction)).round(4))"
   ]
  },
  {
   "cell_type": "markdown",
   "metadata": {},
   "source": [
    "- d. KNN regression"
   ]
  },
  {
   "cell_type": "code",
   "execution_count": 45,
   "metadata": {},
   "outputs": [
    {
     "data": {
      "text/plain": [
       "KNeighborsRegressor(algorithm='auto', leaf_size=30, metric='minkowski',\n",
       "          metric_params=None, n_jobs=1, n_neighbors=3, p=2,\n",
       "          weights='uniform')"
      ]
     },
     "execution_count": 45,
     "metadata": {},
     "output_type": "execute_result"
    }
   ],
   "source": [
    "# Creamos el modelo con nn=3\n",
    "from sklearn.neighbors import KNeighborsRegressor\n",
    "from sklearn.model_selection import train_test_split\n",
    "reg_knn = KNeighborsRegressor(n_neighbors=3)\n",
    "reg_knn.fit(x_train,y_train)"
   ]
  },
  {
   "cell_type": "code",
   "execution_count": 46,
   "metadata": {
    "scrolled": true
   },
   "outputs": [
    {
     "name": "stdout",
     "output_type": "stream",
     "text": [
      "El valor de la r^2 es 0.0874\n",
      "El error medio absoluto es 7412.4333\n",
      "El error medio cuadrado es 129325966.3768\n",
      "La raíz cuadrada del error cuadrado medio es 11372.1575\n"
     ]
    }
   ],
   "source": [
    "# Predecimos los resultados del modelo\n",
    "y_prediction = reg_knn.predict(x_test)\n",
    "# Calculamos la precisión de predicción del modelo\n",
    "score=r2_score(y_test,y_prediction)\n",
    "print(\"El valor de la r^2 es\",score.round(4))\n",
    "print (\"El error medio absoluto es\",mean_absolute_error(y_test, y_prediction).round(4))\n",
    "print(\"El error medio cuadrado es\",mean_squared_error(y_test,y_prediction).round(4))\n",
    "print(\"La raíz cuadrada del error cuadrado medio es\",np.sqrt(mean_squared_error(y_test,y_prediction)).round(4))"
   ]
  },
  {
   "cell_type": "code",
   "execution_count": 47,
   "metadata": {
    "scrolled": true
   },
   "outputs": [
    {
     "name": "stdout",
     "output_type": "stream",
     "text": [
      "RMSE value for k=  1 is: 13296.36729030142\n",
      "RMSE value for k=  2 is: 11240.189295321505\n",
      "RMSE value for k=  3 is: 11372.157507564078\n",
      "RMSE value for k=  4 is: 11283.026284018095\n",
      "RMSE value for k=  5 is: 11096.664263615068\n",
      "RMSE value for k=  6 is: 11044.928204370244\n",
      "RMSE value for k=  7 is: 10929.261631768231\n",
      "RMSE value for k=  8 is: 10982.088540369077\n",
      "RMSE value for k=  9 is: 10754.485374495083\n",
      "RMSE value for k=  10 is: 10743.384030410472\n",
      "RMSE value for k=  11 is: 10796.703339367989\n",
      "RMSE value for k=  12 is: 10887.301540752838\n",
      "RMSE value for k=  13 is: 10850.433342899816\n",
      "RMSE value for k=  14 is: 10893.378750849586\n",
      "RMSE value for k=  15 is: 10855.60904033853\n"
     ]
    }
   ],
   "source": [
    "# Con una función cálculamos el valor de varios nn para obtener los valores de RMSE y encontrar el mejor nn para el modelo\n",
    "from math import sqrt\n",
    "rmse_val = [] #to store rmse values for different k\n",
    "for K in range(15):\n",
    "    K = K+1\n",
    "    model = KNeighborsRegressor(n_neighbors = K)\n",
    "    model.fit(x_train, y_train)  #fit the model\n",
    "    pred=model.predict(x_test) #make prediction on test set\n",
    "    error = sqrt(mean_squared_error(y_test,pred)) #calculate rmse\n",
    "    rmse_val.append(error) #store rmse values\n",
    "    print('RMSE value for k= ' , K , 'is:', error)"
   ]
  },
  {
   "cell_type": "code",
   "execution_count": 48,
   "metadata": {},
   "outputs": [
    {
     "data": {
      "text/plain": [
       "KNeighborsRegressor(algorithm='auto', leaf_size=30, metric='minkowski',\n",
       "          metric_params=None, n_jobs=1, n_neighbors=10, p=2,\n",
       "          weights='uniform')"
      ]
     },
     "execution_count": 48,
     "metadata": {},
     "output_type": "execute_result"
    }
   ],
   "source": [
    "# Realizamo modelo con nn=10\n",
    "reg_knn = KNeighborsRegressor(n_neighbors=10)\n",
    "reg_knn.fit(x_train,y_train)"
   ]
  },
  {
   "cell_type": "code",
   "execution_count": 49,
   "metadata": {},
   "outputs": [
    {
     "name": "stdout",
     "output_type": "stream",
     "text": [
      "El valor de la r^2 es 0.1856\n",
      "El error medio absoluto es 7975.8746\n",
      "El error medio cuadrado es 115420300.4249\n",
      "La raíz cuadrada del error cuadrado medio es 10743.384\n"
     ]
    }
   ],
   "source": [
    "# Predecimos los resultados del modelo\n",
    "y_prediction = reg_knn.predict(x_test)\n",
    "# Calculamos la precisión de predicción del modelo\n",
    "score=r2_score(y_test,y_prediction)\n",
    "print(\"El valor de la r^2 es\",score.round(4))\n",
    "print (\"El error medio absoluto es\",mean_absolute_error(y_test, y_prediction).round(4))\n",
    "print(\"El error medio cuadrado es\",mean_squared_error(y_test,y_prediction).round(4))\n",
    "print(\"La raíz cuadrada del error cuadrado medio es\",np.sqrt(mean_squared_error(y_test,y_prediction)).round(4))"
   ]
  },
  {
   "cell_type": "markdown",
   "metadata": {},
   "source": [
    "### ¿Cuáles son las mejores variables para la predicción de “charges”?"
   ]
  },
  {
   "cell_type": "markdown",
   "metadata": {},
   "source": [
    "Al ajustar los distintos modelos con todas las variables se obtuvieron mejores resultados,que al ajustarse los modelos con las variables que en la matriz de correlación sugerían tener una mayor relación con nuestra variable dependiente (charges).  \n",
    "Por lo tanto todas las variables son necesarias para una buena predictibilidad en el modelo."
   ]
  },
  {
   "cell_type": "markdown",
   "metadata": {},
   "source": [
    "### ¿Cuál modelo entrega mejor predictibilidad? y ¿por qué?"
   ]
  },
  {
   "cell_type": "markdown",
   "metadata": {},
   "source": [
    "Los modelos en general tuvieron casi los mismos resultados, a excepción del modelo de KNN regression el cual ni encontrando los mejores hiperparámetros obtuvo a lo más el valor de R^2 igual a 0.2736.  \n",
    "Linear regression y Lasso regression obtuvieron el mismo valor de R^2 de 0.7406, con respecto al MAE el valor más bajo lo obtuvo el modelo de Lasso regression(4139.9093), a lo que respecta al valor de RMSE el valor más bajo fue para Linear regression(6063.1227).  \n",
    "Los valores de Ridge regression fueron muy similares con R^2 de 0.7405, MAE de 4144.0044 y RMSE igual a 6064.1259.  \n",
    "Por lo anterior el mejor modelo es el de Linear regression, ya que aunque no obtuvo el valor más bajo en MAE(4139.9321), éste valor sólo es importante cuando no se toman en cuenta los valores extremos observados, pero en este caso si nos importan ya que existe una gran variabilidad en los datos a predecir."
   ]
  },
  {
   "cell_type": "markdown",
   "metadata": {},
   "source": [
    "### Conclusiones"
   ]
  },
  {
   "cell_type": "markdown",
   "metadata": {},
   "source": [
    "Derivado de la necesidad que tiene la aseguradora por efectuar un cobro a sus nuevos pacientes, se han analizado varios caminos que resuelvan de manera eficiente y efectiva esta problemática.  \n",
    "Se ha llegado a la conclusión de que generando un modelo matemático sería la mejor opción. Recomendando realizar un modelo de regresión lineal, el cuál podrá predecir con un grado de precisión el monto que se debe cobrar al nuevo paciente, basandose en los datos históricos de la aseguradora.  \n",
    "Dicho modelo podrá ahorrar a la aseguradora tiempo en la determinación del monto a cobrar, ya que el modelo predice el 74 por ciento de los posibles pacientes nuevos, este modelo se basa en datos históricos almacenados y no requerirá de mayor información, más que de su edad, historial clínico básico y un comprobante domiciliario, también permitirá ahorrar a la aseguradora miles de dolares cuando se cobre lo justo al paciente dadas sus características específicas y no tenga que cubrir gastos médicos que no se tenían contemplados en el perfil del paciente.  \n",
    "La importancia de la realización e implementación del modelo está dada por el ahorro en tiempo y dinero que generará el modelo dentro de la aseguradora."
   ]
  }
 ],
 "metadata": {
  "colab": {
   "name": "Tarea 1.ipynb",
   "provenance": []
  },
  "kernelspec": {
   "display_name": "Python 3 (ipykernel)",
   "language": "python",
   "name": "python3"
  },
  "language_info": {
   "codemirror_mode": {
    "name": "ipython",
    "version": 3
   },
   "file_extension": ".py",
   "mimetype": "text/x-python",
   "name": "python",
   "nbconvert_exporter": "python",
   "pygments_lexer": "ipython3",
   "version": "3.9.7"
  }
 },
 "nbformat": 4,
 "nbformat_minor": 1
}
